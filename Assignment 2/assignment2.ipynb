{
 "cells": [
  {
   "cell_type": "markdown",
   "metadata": {},
   "source": [
    "Part 1: User Data Processing with Lists"
   ]
  },
  {
   "cell_type": "code",
   "execution_count": 1,
   "metadata": {},
   "outputs": [
    {
     "name": "stdout",
     "output_type": "stream",
     "text": [
      "Filtered users: ['Emily', 'Mike', 'Emma', 'Emily']\n",
      "Top 10 oldest users: [(3, 'Mike', 45, 'USA'), (6, 'Emily', 40, 'USA'), (5, 'Emma', 35, 'Canada'), (2, 'Emily', 32, 'Canada'), (4, 'Sara', 29, 'UK'), (1, 'John', 25, 'USA')]\n",
      "Duplicate names: ['Emily']\n"
     ]
    }
   ],
   "source": [
    "#Filter out users older than 30 from specific countries (‘USA’, ‘Canada’)\n",
    "def user_country(user_data):\n",
    "    filter = []\n",
    "    for user in user_data:\n",
    "        user_id, user_name, age, country = user\n",
    "        if age > 30 and country in ['USA', 'Canada']:\n",
    "            filter.append(user_name)\n",
    "    return filter\n",
    "\n",
    "\n",
    "#Sorts the original list of tuples by age and returns the top 10 oldest users\n",
    "def old_users(user_data):\n",
    "    for i in range(len(user_data)):\n",
    "        for j in range(i + 1, len(user_data)):\n",
    "            if user_data[i][2] < user_data[j][2]:  \n",
    "                user_data[i], user_data[j] = user_data[j], user_data[i]\n",
    "    return user_data[:10]\n",
    "\n",
    "#Checks if there are any users with duplicate names in the list. If duplicates are found, output those names\n",
    "def duplicate(user_data):\n",
    "    names = []\n",
    "    duplicates = []\n",
    "    for user in user_data:\n",
    "        user_name = user[1]\n",
    "        if user_name in names and user_name not in duplicates:\n",
    "            duplicates.append(user_name)\n",
    "        else:\n",
    "            names.append(user_name)\n",
    "    return duplicates\n",
    "\n",
    "\n",
    "# Example data:\n",
    "user_data = [\n",
    "    (1, \"John\", 25, \"USA\"),\n",
    "    (2, \"Emily\", 32, \"Canada\"),\n",
    "    (3, \"Mike\", 45, \"USA\"),\n",
    "    (4, \"Sara\", 29, \"UK\"),\n",
    "    (5, \"Emma\", 35, \"Canada\"),\n",
    "    (6, \"Emily\", 40, \"USA\")\n",
    "]\n",
    "\n",
    "filter = user_country(user_data)\n",
    "print(\"Filtered users:\", filter)\n",
    "\n",
    "oldest_users = old_users(user_data)\n",
    "print(\"Top 10 oldest users:\", oldest_users)\n",
    "\n",
    "duplicates = duplicate(user_data)\n",
    "print(\"Duplicate names:\", duplicates)\n"
   ]
  },
  {
   "cell_type": "markdown",
   "metadata": {},
   "source": [
    "Part 2: Immutable Data Management with Tuples"
   ]
  },
  {
   "cell_type": "code",
   "execution_count": null,
   "metadata": {},
   "outputs": [],
   "source": [
    "#Takes a list of transactions (tuples) and finds the total number of unique users involved in transactions\n",
    "def unique_users(trans):\n",
    "    unique_id = []\n",
    "    for transaction in trans:\n",
    "        user_id = transaction[1]\n",
    "        if user_id not in unique_id:\n",
    "            unique_id.append(user_id)\n",
    "    return len(unique_id)\n",
    "\n",
    "\n",
    "#Identifies and returns the transaction with the highest amount without altering the list of tuples\n",
    "def high_amount(trans):\n",
    "    max_trans = trans[0]\n",
    "    for transaction in trans:\n",
    "        if transaction[2] > max_trans[2]: \n",
    "            max_trans = transaction\n",
    "    return max_trans\n",
    "\n",
    "\n",
    "#Receives a list of tuples and returns two separate lists: one containing all the transaction_id and the other containing all user_ids\n",
    "def seperate(trans):\n",
    "    trans_id = []\n",
    "    user_ids = []\n",
    "    for transaction in trans:\n",
    "        trans_id.append(transaction[0])\n",
    "        user_ids.append(transaction[1])\n",
    "    return trans_id, user_ids\n",
    "\n",
    "\n",
    "# Example data: \n",
    "trans = [\n",
    "    (101, 1, 150.75, \"2023-10-01 10:00\"),\n",
    "    (102, 2, 350.00, \"2023-10-01 11:00\"),\n",
    "    (103, 3, 125.50, \"2023-10-02 12:00\"),\n",
    "    (104, 1, 220.25, \"2023-10-02 13:00\")\n",
    "]\n",
    "\n",
    "unique_user_count = unique_users(trans)\n",
    "print(\"Total unique users:\", unique_user_count)\n",
    "\n",
    "high_amount = high_amount(trans)\n",
    "print(\"Highest Amount:\", high_amount)\n",
    "\n",
    "trans_id, user_ids = seperate(trans)\n",
    "print(\"Transaction IDs:\", trans_id)\n",
    "print(\"User IDs:\", user_ids)\n"
   ]
  },
  {
   "cell_type": "markdown",
   "metadata": {},
   "source": [
    "Part 3: Unique Data Handling with Sets"
   ]
  },
  {
   "cell_type": "code",
   "execution_count": null,
   "metadata": {},
   "outputs": [],
   "source": []
  }
 ],
 "metadata": {
  "kernelspec": {
   "display_name": "base",
   "language": "python",
   "name": "python3"
  },
  "language_info": {
   "codemirror_mode": {
    "name": "ipython",
    "version": 3
   },
   "file_extension": ".py",
   "mimetype": "text/x-python",
   "name": "python",
   "nbconvert_exporter": "python",
   "pygments_lexer": "ipython3",
   "version": "3.11.3"
  }
 },
 "nbformat": 4,
 "nbformat_minor": 2
}
