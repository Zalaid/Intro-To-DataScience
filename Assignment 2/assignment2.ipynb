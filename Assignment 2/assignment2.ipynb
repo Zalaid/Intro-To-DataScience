{
 "cells": [
  {
   "cell_type": "markdown",
   "metadata": {},
   "source": [
    "Part 1: User Data Processing with Lists"
   ]
  },
  {
   "cell_type": "code",
   "execution_count": null,
   "metadata": {},
   "outputs": [],
   "source": [
    "#Filter out users older than 30 from specific countries (‘USA’, ‘Canada’)\n",
    "def user_country(user_data):\n",
    "    filter = []\n",
    "    for user in user_data:\n",
    "        user_id, user_name, age, country = user\n",
    "        if age > 30 and country in ['USA', 'Canada']:\n",
    "            filter.append(user_name)\n",
    "    return filter\n",
    "\n",
    "\n",
    "#Sorts the original list of tuples by age and returns the top 10 oldest users\n",
    "def old_users(user_data):\n",
    "    for i in range(len(user_data)):\n",
    "        for j in range(i + 1, len(user_data)):\n",
    "            if user_data[i][2] < user_data[j][2]:  \n",
    "                user_data[i], user_data[j] = user_data[j], user_data[i]\n",
    "    return user_data[:10]\n",
    "\n",
    "#Checks if there are any users with duplicate names in the list. If duplicates are found, output those names\n",
    "def duplicate(user_data):\n",
    "    names = []\n",
    "    duplicates = []\n",
    "    for user in user_data:\n",
    "        user_name = user[1]\n",
    "        if user_name in names and user_name not in duplicates:\n",
    "            duplicates.append(user_name)\n",
    "        else:\n",
    "            names.append(user_name)\n",
    "    return duplicates\n",
    "\n",
    "\n",
    "# Example data:\n",
    "user_data = [\n",
    "    (1, \"John\", 25, \"USA\"),\n",
    "    (2, \"Emily\", 32, \"Canada\"),\n",
    "    (3, \"Mike\", 45, \"USA\"),\n",
    "    (4, \"Sara\", 29, \"UK\"),\n",
    "    (5, \"Emma\", 35, \"Canada\"),\n",
    "    (6, \"Emily\", 40, \"USA\")\n",
    "]\n",
    "\n",
    "filter = user_country(user_data)\n",
    "print(\"Filtered users:\", filter)\n",
    "\n",
    "oldest_users = old_users(user_data)\n",
    "print(\"Top 10 oldest users:\", oldest_users)\n",
    "\n",
    "duplicates = duplicate(user_data)\n",
    "print(\"Duplicate names:\", duplicates)\n"
   ]
  },
  {
   "cell_type": "code",
   "execution_count": null,
   "metadata": {},
   "outputs": [],
   "source": []
  },
  {
   "cell_type": "code",
   "execution_count": null,
   "metadata": {},
   "outputs": [],
   "source": []
  }
 ],
 "metadata": {
  "kernelspec": {
   "display_name": "base",
   "language": "python",
   "name": "python3"
  },
  "language_info": {
   "name": "python",
   "version": "3.11.3"
  }
 },
 "nbformat": 4,
 "nbformat_minor": 2
}
