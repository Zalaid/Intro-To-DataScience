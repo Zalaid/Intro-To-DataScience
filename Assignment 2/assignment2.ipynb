{
 "cells": [
  {
   "cell_type": "markdown",
   "metadata": {},
   "source": [
    "Part 1: User Data Processing with Lists"
   ]
  },
  {
   "cell_type": "code",
   "execution_count": null,
   "metadata": {},
   "outputs": [],
   "source": [
    "#Filter out users older than 30 from specific countries (‘USA’, ‘Canada’)\n",
    "def user_country(user_data):\n",
    "    filter = []\n",
    "    for user in user_data:\n",
    "        user_id, user_name, age, country = user\n",
    "        if age > 30 and country in ['USA', 'Canada']:\n",
    "            filter.append(user_name)\n",
    "    return filter\n",
    "\n",
    "\n",
    "#Sorts the original list of tuples by age and returns the top 10 oldest users\n",
    "def old_users(user_data):\n",
    "    for i in range(len(user_data)):\n",
    "        for j in range(i + 1, len(user_data)):\n",
    "            if user_data[i][2] < user_data[j][2]:  \n",
    "                user_data[i], user_data[j] = user_data[j], user_data[i]\n",
    "    return user_data[:10]"
   ]
  },
  {
   "cell_type": "code",
   "execution_count": null,
   "metadata": {},
   "outputs": [],
   "source": []
  },
  {
   "cell_type": "code",
   "execution_count": null,
   "metadata": {},
   "outputs": [],
   "source": []
  }
 ],
 "metadata": {
  "kernelspec": {
   "display_name": "base",
   "language": "python",
   "name": "python3"
  },
  "language_info": {
   "name": "python",
   "version": "3.11.3"
  }
 },
 "nbformat": 4,
 "nbformat_minor": 2
}
