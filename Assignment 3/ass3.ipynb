{
 "cells": [
  {
   "cell_type": "markdown",
   "metadata": {},
   "source": [
    "Task 1"
   ]
  },
  {
   "cell_type": "markdown",
   "metadata": {},
   "source": [
    "Part A: Data Validation"
   ]
  },
  {
   "cell_type": "code",
   "execution_count": null,
   "metadata": {},
   "outputs": [],
   "source": [
    "from typing import List, Dict\n",
    "\n",
    "data = [\n",
    "    {\"customer\": \"Alice\", \"amount\": 250.5},\n",
    "    {\"customer\": \"Bob\", \"amount\": \"invalid_data\"},\n",
    "    {\"customer\": \"Charlie\", \"amount\": 450},\n",
    "    {\"customer\": \"Daisy\", \"amount\": 100.0},\n",
    "    {\"customer\": \"Eve\", \"amount\": -30},\n",
    "]\n",
    "\n",
    "def filter_valid_orders(order_data: List[Dict[str, str]]) -> List[Dict[str, str]]:\n",
    "    def check_valid_order(entry):\n",
    "        try:\n",
    "            total = float(entry[\"amount\"])\n",
    "            return total >= 0\n",
    "        except (ValueError, TypeError):\n",
    "            return False\n",
    "\n",
    "    valid_entries = list(filter(check_valid_order, order_data))\n",
    "    return valid_entries\n",
    "\n",
    "result = filter_valid_orders(data)\n",
    "print(result)"
   ]
  }
 ],
 "metadata": {
  "kernelspec": {
   "display_name": "base",
   "language": "python",
   "name": "python3"
  },
  "language_info": {
   "name": "python",
   "version": "3.11.3"
  }
 },
 "nbformat": 4,
 "nbformat_minor": 2
}
