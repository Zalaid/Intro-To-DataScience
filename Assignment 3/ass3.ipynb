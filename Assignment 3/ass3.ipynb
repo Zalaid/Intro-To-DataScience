{
 "cells": [
  {
   "cell_type": "markdown",
   "metadata": {},
   "source": [
    "Task 1"
   ]
  },
  {
   "cell_type": "markdown",
   "metadata": {},
   "source": [
    "Part A: Data Validation"
   ]
  },
  {
   "cell_type": "code",
   "execution_count": null,
   "metadata": {},
   "outputs": [],
   "source": [
    "from typing import List, Dict\n",
    "\n",
    "data = [\n",
    "    {\"customer\": \"Alice\", \"amount\": 250.5},\n",
    "    {\"customer\": \"Bob\", \"amount\": \"invalid_data\"},\n",
    "    {\"customer\": \"Charlie\", \"amount\": 450},\n",
    "    {\"customer\": \"Daisy\", \"amount\": 100.0},\n",
    "    {\"customer\": \"Eve\", \"amount\": -30},\n",
    "]\n",
    "\n",
    "def filter_valid_orders(order_data: List[Dict[str, str]]) -> List[Dict[str, str]]:\n",
    "    def check_valid_order(entry):\n",
    "        try:\n",
    "            total = float(entry[\"amount\"])\n",
    "            return total >= 0\n",
    "        except (ValueError, TypeError):\n",
    "            return False\n",
    "\n",
    "    valid_entries = list(filter(check_valid_order, order_data))\n",
    "    return valid_entries\n",
    "\n",
    "result = filter_valid_orders(data)\n",
    "print(result)"
   ]
  },
  {
   "cell_type": "markdown",
   "metadata": {},
   "source": [
    "Part B"
   ]
  },
  {
   "cell_type": "code",
   "execution_count": null,
   "metadata": {},
   "outputs": [],
   "source": [
    "from typing import List, Dict\n",
    "\n",
    "def apply_discount(order_data: List[Dict[str, float]]) -> List[Dict[str, float]]:\n",
    "    apply_discount_if_needed = lambda order: {\n",
    "        \"customer\": order[\"customer\"],\n",
    "        \"amount\": order[\"amount\"] * 0.9 if order[\"amount\"] > 300 else order[\"amount\"]\n",
    "    }\n",
    "    \n",
    "    updated_orders = list(map(apply_discount_if_needed, order_data))\n",
    "    return updated_orders\n",
    "\n",
    "valid_orders = [\n",
    "    {\"customer\": \"Alice\", \"amount\": 250.5},\n",
    "    {\"customer\": \"Charlie\", \"amount\": 450},\n",
    "    {\"customer\": \"Daisy\", \"amount\": 100.0},\n",
    "]\n",
    "\n",
    "discounted_orders = apply_discount(valid_orders)\n",
    "print(discounted_orders)\n"
   ]
  },
  {
   "cell_type": "markdown",
   "metadata": {},
   "source": [
    "PART C"
   ]
  },
  {
   "cell_type": "code",
   "execution_count": null,
   "metadata": {},
   "outputs": [],
   "source": [
    "from functools import reduce\n",
    "from typing import List, Dict\n",
    "\n",
    "def calculate_total_sales(order_data: List[Dict[str, float]]) -> float:\n",
    "    total_sales = reduce(lambda total, order: total + order[\"amount\"], order_data, 0)\n",
    "    return total_sales\n",
    "\n",
    "discounted_orders = [\n",
    "    {\"customer\": \"Alice\", \"amount\": 250.5},\n",
    "    {\"customer\": \"Charlie\", \"amount\": 405.0},\n",
    "    {\"customer\": \"Daisy\", \"amount\": 100.0},\n",
    "]\n",
    "\n",
    "total_sales = calculate_total_sales(discounted_orders)\n",
    "print(total_sales)\n",
    "\n"
   ]
  },
  {
   "cell_type": "markdown",
   "metadata": {},
   "source": [
    "Task 2: Iterator and Generator"
   ]
  },
  {
   "cell_type": "code",
   "execution_count": null,
   "metadata": {},
   "outputs": [],
   "source": [
    "class SquareIterator:\n",
    "    def __init__(self, n):\n",
    "        self.n = n\n",
    "        self.current = 1\n",
    "\n",
    "    def __iter__(self):\n",
    "        return self\n",
    "\n",
    "    def __next__(self):\n",
    "        if self.current <= self.n:\n",
    "            result = self.current ** 2\n",
    "            self.current += 1\n",
    "            return result\n",
    "        else:\n",
    "            raise StopIteration\n",
    "\n",
    "squares = SquareIterator(5)\n",
    "for square in squares:\n",
    "    print(square)\n",
    "    \n",
    "\n",
    "print()\n",
    "print()\n",
    "\n"
   ]
  },
  {
   "cell_type": "markdown",
   "metadata": {},
   "source": [
    "Part B"
   ]
  },
  {
   "cell_type": "code",
   "execution_count": 1,
   "metadata": {},
   "outputs": [
    {
     "name": "stdout",
     "output_type": "stream",
     "text": [
      "0\n",
      "1\n",
      "1\n",
      "2\n",
      "3\n",
      "5\n",
      "8\n",
      "13\n"
     ]
    }
   ],
   "source": [
    "def fibonacci_generator(n):\n",
    "    a, b = 0, 1\n",
    "    while a <= n:\n",
    "        yield a\n",
    "        a, b = b, a + b\n",
    "\n",
    "for num in fibonacci_generator(20):\n",
    "    print(num)"
   ]
  },
  {
   "cell_type": "code",
   "execution_count": null,
   "metadata": {},
   "outputs": [],
   "source": []
  },
  {
   "cell_type": "markdown",
   "metadata": {},
   "source": [
    "Task 3"
   ]
  },
  {
   "cell_type": "code",
   "execution_count": null,
   "metadata": {},
   "outputs": [],
   "source": [
    "class DivisionError(Exception):\n",
    "    def __init__(self, message):\n",
    "        super().__init__(message)\n",
    "\n",
    "def divide_numbers(numbers, divisor):\n",
    "    result = []\n",
    "    for num in numbers:\n",
    "        try:\n",
    "            if divisor == 0:\n",
    "                raise DivisionError(\"Division by zero is not allowed\")\n",
    "            result.append(num / divisor)\n",
    "        except DivisionError as e:\n",
    "            raise e  \n",
    "        except Exception as e:\n",
    "            raise DivisionError(f\"Error occurred during division: {e}\") from e  \n",
    "    return result\n",
    "\n",
    "try:\n",
    "    output = divide_numbers([10, 20, 'a', 40], 2)\n",
    "    print(output)\n",
    "except DivisionError as e:\n",
    "    print(e)\n",
    "\n",
    "\n",
    "print()\n",
    "print()\n",
    "\n"
   ]
  }
 ],
 "metadata": {
  "kernelspec": {
   "display_name": "base",
   "language": "python",
   "name": "python3"
  },
  "language_info": {
   "codemirror_mode": {
    "name": "ipython",
    "version": 3
   },
   "file_extension": ".py",
   "mimetype": "text/x-python",
   "name": "python",
   "nbconvert_exporter": "python",
   "pygments_lexer": "ipython3",
   "version": "3.11.3"
  }
 },
 "nbformat": 4,
 "nbformat_minor": 2
}
