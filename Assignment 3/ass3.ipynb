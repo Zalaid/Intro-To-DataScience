{
 "cells": [
  {
   "cell_type": "markdown",
   "metadata": {},
   "source": [
    "Task 1"
   ]
  },
  {
   "cell_type": "markdown",
   "metadata": {},
   "source": [
    "Part A: Data Validation"
   ]
  },
  {
   "cell_type": "code",
   "execution_count": null,
   "metadata": {},
   "outputs": [],
   "source": [
    "from typing import List, Dict\n",
    "\n",
    "data = [\n",
    "    {\"customer\": \"Alice\", \"amount\": 250.5},\n",
    "    {\"customer\": \"Bob\", \"amount\": \"invalid_data\"},\n",
    "    {\"customer\": \"Charlie\", \"amount\": 450},\n",
    "    {\"customer\": \"Daisy\", \"amount\": 100.0},\n",
    "    {\"customer\": \"Eve\", \"amount\": -30},\n",
    "]\n",
    "\n",
    "def filter_valid_orders(order_data: List[Dict[str, str]]) -> List[Dict[str, str]]:\n",
    "    def check_valid_order(entry):\n",
    "        try:\n",
    "            total = float(entry[\"amount\"])\n",
    "            return total >= 0\n",
    "        except (ValueError, TypeError):\n",
    "            return False\n",
    "\n",
    "    valid_entries = list(filter(check_valid_order, order_data))\n",
    "    return valid_entries\n",
    "\n",
    "result = filter_valid_orders(data)\n",
    "print(result)"
   ]
  },
  {
   "cell_type": "markdown",
   "metadata": {},
   "source": [
    "Part B"
   ]
  },
  {
   "cell_type": "code",
   "execution_count": null,
   "metadata": {},
   "outputs": [],
   "source": [
    "from typing import List, Dict\n",
    "\n",
    "def apply_discount(order_data: List[Dict[str, float]]) -> List[Dict[str, float]]:\n",
    "    apply_discount_if_needed = lambda order: {\n",
    "        \"customer\": order[\"customer\"],\n",
    "        \"amount\": order[\"amount\"] * 0.9 if order[\"amount\"] > 300 else order[\"amount\"]\n",
    "    }\n",
    "    \n",
    "    updated_orders = list(map(apply_discount_if_needed, order_data))\n",
    "    return updated_orders\n",
    "\n",
    "valid_orders = [\n",
    "    {\"customer\": \"Alice\", \"amount\": 250.5},\n",
    "    {\"customer\": \"Charlie\", \"amount\": 450},\n",
    "    {\"customer\": \"Daisy\", \"amount\": 100.0},\n",
    "]\n",
    "\n",
    "discounted_orders = apply_discount(valid_orders)\n",
    "print(discounted_orders)\n"
   ]
  },
  {
   "cell_type": "markdown",
   "metadata": {},
   "source": [
    "PART C"
   ]
  },
  {
   "cell_type": "code",
   "execution_count": null,
   "metadata": {},
   "outputs": [],
   "source": [
    "from functools import reduce\n",
    "from typing import List, Dict\n",
    "\n",
    "def calculate_total_sales(order_data: List[Dict[str, float]]) -> float:\n",
    "    total_sales = reduce(lambda total, order: total + order[\"amount\"], order_data, 0)\n",
    "    return total_sales\n",
    "\n",
    "discounted_orders = [\n",
    "    {\"customer\": \"Alice\", \"amount\": 250.5},\n",
    "    {\"customer\": \"Charlie\", \"amount\": 405.0},\n",
    "    {\"customer\": \"Daisy\", \"amount\": 100.0},\n",
    "]\n",
    "\n",
    "total_sales = calculate_total_sales(discounted_orders)\n",
    "print(total_sales)\n",
    "\n"
   ]
  },
  {
   "cell_type": "markdown",
   "metadata": {},
   "source": [
    "Task 2: Iterator and Generator"
   ]
  },
  {
   "cell_type": "code",
   "execution_count": null,
   "metadata": {},
   "outputs": [],
   "source": [
    "class SquareIterator:\n",
    "    def __init__(self, n):\n",
    "        self.n = n\n",
    "        self.current = 1\n",
    "\n",
    "    def __iter__(self):\n",
    "        return self\n",
    "\n",
    "    def __next__(self):\n",
    "        if self.current <= self.n:\n",
    "            result = self.current ** 2\n",
    "            self.current += 1\n",
    "            return result\n",
    "        else:\n",
    "            raise StopIteration\n",
    "\n",
    "squares = SquareIterator(5)\n",
    "for square in squares:\n",
    "    print(square)\n",
    "    \n",
    "\n",
    "print()\n",
    "print()\n",
    "\n"
   ]
  }
 ],
 "metadata": {
  "kernelspec": {
   "display_name": "base",
   "language": "python",
   "name": "python3"
  },
  "language_info": {
   "name": "python",
   "version": "3.11.3"
  }
 },
 "nbformat": 4,
 "nbformat_minor": 2
}
