{
 "cells": [
  {
   "cell_type": "markdown",
   "metadata": {},
   "source": []
  },
  {
   "cell_type": "markdown",
   "metadata": {},
   "source": [
    "# Climate Data Analysis Project\n",
    "This notebook analyzes daily temperature and humidity data from 500 locations for a year.\n",
    "Each task is organized into a section for easier review and understanding."
   ]
  },
  {
   "cell_type": "markdown",
   "metadata": {},
   "source": []
  },
  {
   "cell_type": "markdown",
   "metadata": {},
   "source": [
    "# Task 1 initialize Temperature and Humidity Data \n",
    "Set up two arrays to represent daily data: \n",
    "• temperature_data: Randomly generated temperature values in \n",
    "Celsius, ranging between -10 and 40 degrees, for each of the 500 locations \n",
    "across 365 days. \n",
    "• humidity_data: Randomly generated humidity percentages, ranging \n",
    "from 0 to 100, for each location and day."
   ]
  },
  {
   "cell_type": "code",
   "execution_count": 3,
   "metadata": {},
   "outputs": [
    {
     "data": {
      "text/plain": [
       "(array([[30.22208988,  6.61811043, -2.47282254, -2.61371605, 12.70609906],\n",
       "        [38.80256258, -0.0640887 , 26.67336616, -2.81630719, 29.67972257],\n",
       "        [25.19210595, -4.45628049, 14.93372309, 38.86893319, 30.92970933],\n",
       "        [12.52480228,  0.84598489, -7.72494185,  7.57490926, 11.74669206],\n",
       "        [30.93131563, 29.74419696, 34.9183831 , -0.80429642, 18.3770796 ]]),\n",
       " array([[ 8.69402456, 89.72210708, 28.46180077, 90.68803567, 77.58944148],\n",
       "        [79.76650028, 31.13992629, 15.39825105, 39.72681607,  7.96221313],\n",
       "        [98.92153102, 58.48027888, 69.13132533, 98.8579108 , 54.12636625],\n",
       "        [46.60064918, 77.7462611 , 43.46155451,  8.28834463, 98.36166781],\n",
       "        [74.88841013, 45.54209366, 84.23318378, 95.57519917, 25.8161521 ]]))"
      ]
     },
     "execution_count": 3,
     "metadata": {},
     "output_type": "execute_result"
    }
   ],
   "source": [
    "import numpy as np\n",
    "# Task 1: Initialize Temperature and Humidity Data\n",
    "# Generate random data for temperature (in Celsius) and humidity (in percentage) for each day of the year.\n",
    "temperature_data = np.random.uniform(-10, 40, (500, 365))\n",
    "humidity_data = np.random.uniform(0, 100, (500, 365))\n",
    "\n",
    "# Output first few rows to check data.\n",
    "temperature_data[:5, :5], humidity_data[:5, :5]"
   ]
  },
  {
   "cell_type": "code",
   "execution_count": 4,
   "metadata": {},
   "outputs": [
    {
     "data": {
      "text/plain": [
       "(9173, 9188)"
      ]
     },
     "execution_count": 4,
     "metadata": {},
     "output_type": "execute_result"
    }
   ],
   "source": [
    "# Task 2: Simulate Missing Data\n",
    "# Randomly set 5% of values to NaN to simulate missing data.\n",
    "import numpy as np\n",
    "\n",
    "temperature_missing_mask = np.random.rand(500, 365) < 0.05\n",
    "humidity_missing_mask = np.random.rand(500, 365) < 0.05\n",
    "temperature_data[temperature_missing_mask] = np.nan\n",
    "humidity_data[humidity_missing_mask] = np.nan\n",
    "\n",
    "# Count and print the number of NaNs in each dataset.\n",
    "temperature_missing_count = np.isnan(temperature_data).sum()\n",
    "humidity_missing_count = np.isnan(humidity_data).sum()\n",
    "temperature_missing_count, humidity_missing_count"
   ]
  },
  {
   "cell_type": "code",
   "execution_count": 5,
   "metadata": {},
   "outputs": [
    {
     "data": {
      "text/plain": [
       "array([[80.        , 80.        , 41.77981981, 72.63932894, 80.        ],\n",
       "       [80.        , 47.45460349, 80.        , 46.79405509, 80.        ],\n",
       "       [80.        , 53.21883456, 80.        , 80.        , 80.        ],\n",
       "       [77.84496869, 72.39590336, 39.82588193, 49.77900898, 80.        ],\n",
       "       [80.        , 80.        , 80.        , 78.33986603, 77.98681934]])"
      ]
     },
     "execution_count": 5,
     "metadata": {},
     "output_type": "execute_result"
    }
   ],
   "source": [
    "# Task 3: Convert Temperature to Fahrenheit and Calculate Discomfort Index\n",
    "# Convert Celsius to Fahrenheit.\n",
    "temperature_data_fahrenheit = (temperature_data * 9/5) + 32\n",
    "\n",
    "# Calculate feels-like index based on temperature and humidity.\n",
    "feels_like_index = (temperature_data_fahrenheit + (humidity_data / 2))\n",
    "\n",
    "# Cap values at 80 in feels_like_index.\n",
    "feels_like_index[feels_like_index > 80] = 80\n",
    "\n",
    "# Preview result.\n",
    "feels_like_index[:5, :5]"
   ]
  },
  {
   "cell_type": "code",
   "execution_count": null,
   "metadata": {},
   "outputs": [],
   "source": []
  }
 ],
 "metadata": {
  "kernelspec": {
   "display_name": "base",
   "language": "python",
   "name": "python3"
  },
  "language_info": {
   "codemirror_mode": {
    "name": "ipython",
    "version": 3
   },
   "file_extension": ".py",
   "mimetype": "text/x-python",
   "name": "python",
   "nbconvert_exporter": "python",
   "pygments_lexer": "ipython3",
   "version": "3.11.3"
  }
 },
 "nbformat": 4,
 "nbformat_minor": 2
}
