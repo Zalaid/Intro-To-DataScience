{
 "cells": [
  {
   "cell_type": "markdown",
   "metadata": {},
   "source": []
  },
  {
   "cell_type": "markdown",
   "metadata": {},
   "source": [
    "# Climate Data Analysis Project\n",
    "This notebook analyzes daily temperature and humidity data from 500 locations for a year.\n",
    "Each task is organized into a section for easier review and understanding."
   ]
  },
  {
   "cell_type": "markdown",
   "metadata": {},
   "source": []
  },
  {
   "cell_type": "markdown",
   "metadata": {},
   "source": [
    "# Task 1 initialize Temperature and Humidity Data \n",
    "Set up two arrays to represent daily data: \n",
    "• temperature_data: Randomly generated temperature values in \n",
    "Celsius, ranging between -10 and 40 degrees, for each of the 500 locations \n",
    "across 365 days. \n",
    "• humidity_data: Randomly generated humidity percentages, ranging \n",
    "from 0 to 100, for each location and day."
   ]
  },
  {
   "cell_type": "code",
   "execution_count": 2,
   "metadata": {},
   "outputs": [
    {
     "data": {
      "text/plain": [
       "(array([[35.65141225, 18.76854318, 28.35673055, -7.09128088, 20.85050294],\n",
       "        [-7.20515717, 33.39211494, 30.91939543, -2.27976017, -1.69612157],\n",
       "        [-0.17822029, 23.98513396, 33.58598629, 28.63309961, 11.92653887],\n",
       "        [11.62360951, 33.47359094, 29.41435941,  5.04788182, 15.27723687],\n",
       "        [28.72260244,  1.16454099, 31.78370876,  1.55857564,  2.7246453 ]]),\n",
       " array([[22.11821312, 70.09298283, 77.61009483, 75.36977361,  6.8190284 ],\n",
       "        [13.01914555, 61.32989291, 10.18783427, 99.67111248, 65.13007895],\n",
       "        [21.93128529, 46.17097436, 68.62979057, 62.3324326 , 69.28198487],\n",
       "        [11.13901248, 84.69647039, 18.34283686, 74.41110322, 68.64233289],\n",
       "        [36.68788125,  5.31671628, 94.3384547 ,  2.50064399, 49.22099851]]))"
      ]
     },
     "execution_count": 2,
     "metadata": {},
     "output_type": "execute_result"
    }
   ],
   "source": [
    "import numpy as np\n",
    "# Task 1: Initialize Temperature and Humidity Data\n",
    "# Generate random data for temperature (in Celsius) and humidity (in percentage) for each day of the year.\n",
    "temperature_data = np.random.uniform(-10, 40, (500, 365))\n",
    "humidity_data = np.random.uniform(0, 100, (500, 365))\n",
    "\n",
    "# Output first few rows to check data.\n",
    "temperature_data[:5, :5], humidity_data[:5, :5]"
   ]
  },
  {
   "cell_type": "code",
   "execution_count": null,
   "metadata": {},
   "outputs": [],
   "source": []
  }
 ],
 "metadata": {
  "kernelspec": {
   "display_name": "base",
   "language": "python",
   "name": "python3"
  },
  "language_info": {
   "codemirror_mode": {
    "name": "ipython",
    "version": 3
   },
   "file_extension": ".py",
   "mimetype": "text/x-python",
   "name": "python",
   "nbconvert_exporter": "python",
   "pygments_lexer": "ipython3",
   "version": "3.11.3"
  }
 },
 "nbformat": 4,
 "nbformat_minor": 2
}
