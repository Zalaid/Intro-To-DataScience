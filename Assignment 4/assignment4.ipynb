{
 "cells": [
  {
   "cell_type": "markdown",
   "metadata": {},
   "source": [
    "# Climate Data Analysis Project\n",
    "This notebook analyzes daily temperature and humidity data from 500 locations for a year.\n",
    "Each task is organized into a section for easier review and understanding."
   ]
  },
  {
   "cell_type": "code",
   "execution_count": 1,
   "metadata": {},
   "outputs": [
    {
     "data": {
      "text/plain": [
       "(array([[18.71674297, 35.37841194, 22.88695457,  3.43648007, 28.20257143],\n",
       "        [-9.69171728,  0.06606582, 31.29813704, 18.85803087,  3.78257796],\n",
       "        [-3.8999576 ,  1.85611071, 25.24550783, 38.89064908, 33.14489684],\n",
       "        [19.29686465, 25.81123493, 32.70629916,  0.80800976, 35.92275559],\n",
       "        [25.7273085 , 38.97720838, 25.09487832, 24.02083944, 29.71678146]]),\n",
       " array([[91.46464514, 41.28280277, 96.60449256, 74.25454093, 60.09541005],\n",
       "        [ 5.1915631 , 74.51937406, 85.39600447, 15.87459699, 64.84611699],\n",
       "        [99.44908602, 86.31242081, 61.58230599, 39.93483408, 48.41527462],\n",
       "        [21.44086334, 82.90914131, 62.43945482, 52.01485002, 26.06637843],\n",
       "        [67.56533082, 47.21286197, 71.67657848, 17.89634584, 49.58441948]]))"
      ]
     },
     "execution_count": 1,
     "metadata": {},
     "output_type": "execute_result"
    }
   ],
   "source": [
    "import numpy as np\n",
    "# Task 1: Initialize Temperature and Humidity Data\n",
    "# Generate random data for temperature (in Celsius) and humidity (in percentage) for each day of the year.\n",
    "temperature_data = np.random.uniform(-10, 40, (500, 365))\n",
    "humidity_data = np.random.uniform(0, 100, (500, 365))\n",
    "\n",
    "# Output first few rows to check data.\n",
    "temperature_data[:5, :5], humidity_data[:5, :5]"
   ]
  },
  {
   "cell_type": "code",
   "execution_count": null,
   "metadata": {},
   "outputs": [],
   "source": []
  }
 ],
 "metadata": {
  "kernelspec": {
   "display_name": "base",
   "language": "python",
   "name": "python3"
  },
  "language_info": {
   "codemirror_mode": {
    "name": "ipython",
    "version": 3
   },
   "file_extension": ".py",
   "mimetype": "text/x-python",
   "name": "python",
   "nbconvert_exporter": "python",
   "pygments_lexer": "ipython3",
   "version": "3.11.3"
  }
 },
 "nbformat": 4,
 "nbformat_minor": 2
}
